{
  "cells": [
    {
      "cell_type": "markdown",
      "metadata": {
        "id": "view-in-github",
        "colab_type": "text"
      },
      "source": [
        "<a href=\"https://colab.research.google.com/github/Juliaocmc/GuiIA/blob/main/GuiIA.ipynb\" target=\"_parent\"><img src=\"https://colab.research.google.com/assets/colab-badge.svg\" alt=\"Open In Colab\"/></a>"
      ]
    },
    {
      "cell_type": "markdown",
      "source": [
        "# EXECUTAR"
      ],
      "metadata": {
        "id": "PcjYZODShI3D"
      }
    },
    {
      "cell_type": "markdown",
      "metadata": {
        "id": "rlE8UqxrDIez"
      },
      "source": [
        "## Instalações, Importações e configuração da API_KEY\n"
      ]
    },
    {
      "cell_type": "code",
      "execution_count": null,
      "metadata": {
        "id": "cZiU4TKzznh9"
      },
      "outputs": [],
      "source": [
        "!pip install -U -q google-generativeai"
      ]
    },
    {
      "cell_type": "code",
      "execution_count": null,
      "metadata": {
        "id": "kWIuwKG2_oWE"
      },
      "outputs": [],
      "source": [
        "# import necessary modules.\n",
        "import google.generativeai as genai\n",
        "import json\n",
        "import base64\n",
        "import pathlib\n",
        "import pprint\n",
        "import requests\n",
        "import mimetypes\n",
        "import time\n",
        "from IPython.display import Markdown"
      ]
    },
    {
      "cell_type": "markdown",
      "source": [
        "Adicione sua API_KEY no painal lateral a esquerda \"🔑\"."
      ],
      "metadata": {
        "id": "FpSMcsfogPPG"
      }
    },
    {
      "cell_type": "code",
      "source": [
        "from google.colab import userdata\n",
        "\n",
        "API_KEY=userdata.get('API_KEY')"
      ],
      "metadata": {
        "id": "cTIv_u41gOfx"
      },
      "execution_count": null,
      "outputs": []
    },
    {
      "cell_type": "code",
      "source": [
        "genai.configure(api_key=API_KEY)"
      ],
      "metadata": {
        "id": "CPBv5bFFgYrW"
      },
      "execution_count": null,
      "outputs": []
    },
    {
      "cell_type": "markdown",
      "source": [],
      "metadata": {
        "id": "cqk0mpS_fGYr"
      }
    },
    {
      "cell_type": "markdown",
      "metadata": {
        "id": "weo-o73WDpdm"
      },
      "source": [
        "## Configurando argumentos"
      ]
    },
    {
      "cell_type": "code",
      "execution_count": null,
      "metadata": {
        "id": "uIog-0SyDuIF"
      },
      "outputs": [],
      "source": [
        "model = 'gemini-1.0-pro-latest' # @param {isTemplate: true}\n",
        "contents_b64 = 'W10=' # @param {isTemplate: true}\n",
        "generation_config_b64 = 'eyJ0ZW1wZXJhdHVyZSI6MCwidG9wX3AiOjEsInRvcF9rIjowLCJtYXhfb3V0cHV0X3Rva2VucyI6MjA0OCwic3RvcF9zZXF1ZW5jZXMiOltdfQ==' # @param {isTemplate: true}\n",
        "safety_settings_b64 = 'W3siY2F0ZWdvcnkiOiJIQVJNX0NBVEVHT1JZX0hBUkFTU01FTlQiLCJ0aHJlc2hvbGQiOiJCTE9DS19NRURJVU1fQU5EX0FCT1ZFIn0seyJjYXRlZ29yeSI6IkhBUk1fQ0FURUdPUllfSEFURV9TUEVFQ0giLCJ0aHJlc2hvbGQiOiJCTE9DS19NRURJVU1fQU5EX0FCT1ZFIn0seyJjYXRlZ29yeSI6IkhBUk1fQ0FURUdPUllfU0VYVUFMTFlfRVhQTElDSVQiLCJ0aHJlc2hvbGQiOiJCTE9DS19NRURJVU1fQU5EX0FCT1ZFIn0seyJjYXRlZ29yeSI6IkhBUk1fQ0FURUdPUllfREFOR0VST1VTX0NPTlRFTlQiLCJ0aHJlc2hvbGQiOiJCTE9DS19NRURJVU1fQU5EX0FCT1ZFIn1d' # @param {isTemplate: true}\n",
        "user_input_b64 = '' # @param {isTemplate: true}\n",
        "\n",
        "contents = json.loads(base64.b64decode(contents_b64))\n",
        "generation_config = json.loads(base64.b64decode(generation_config_b64))\n",
        "safety_settings = json.loads(base64.b64decode(safety_settings_b64))\n",
        "user_input = base64.b64decode(user_input_b64).decode()\n",
        "stream = False"
      ]
    },
    {
      "cell_type": "code",
      "execution_count": null,
      "metadata": {
        "id": "wBS8xNhN0x62",
        "colab": {
          "base_uri": "https://localhost:8080/"
        },
        "outputId": "9216296f-6a8a-4cee-c0ac-a170b9920762"
      },
      "outputs": [
        {
          "output_type": "execute_result",
          "data": {
            "text/plain": [
              "[]"
            ]
          },
          "metadata": {},
          "execution_count": 16
        }
      ],
      "source": [
        "contents"
      ]
    },
    {
      "cell_type": "code",
      "execution_count": null,
      "metadata": {
        "id": "1681593ef561",
        "colab": {
          "base_uri": "https://localhost:8080/"
        },
        "outputId": "21de9721-d41d-44a6-a029-3ba2ba200d57"
      },
      "outputs": [
        {
          "output_type": "execute_result",
          "data": {
            "text/plain": [
              "{'temperature': 0,\n",
              " 'top_p': 1,\n",
              " 'top_k': 0,\n",
              " 'max_output_tokens': 2048,\n",
              " 'stop_sequences': []}"
            ]
          },
          "metadata": {},
          "execution_count": 17
        }
      ],
      "source": [
        "generation_config"
      ]
    },
    {
      "cell_type": "code",
      "execution_count": null,
      "metadata": {
        "id": "a2c31f8f1894",
        "colab": {
          "base_uri": "https://localhost:8080/"
        },
        "outputId": "abc488ea-a0b7-45e3-c8a2-e600a3b307c9"
      },
      "outputs": [
        {
          "output_type": "execute_result",
          "data": {
            "text/plain": [
              "[{'category': 'HARM_CATEGORY_HARASSMENT',\n",
              "  'threshold': 'BLOCK_MEDIUM_AND_ABOVE'},\n",
              " {'category': 'HARM_CATEGORY_HATE_SPEECH',\n",
              "  'threshold': 'BLOCK_MEDIUM_AND_ABOVE'},\n",
              " {'category': 'HARM_CATEGORY_SEXUALLY_EXPLICIT',\n",
              "  'threshold': 'BLOCK_MEDIUM_AND_ABOVE'},\n",
              " {'category': 'HARM_CATEGORY_DANGEROUS_CONTENT',\n",
              "  'threshold': 'BLOCK_MEDIUM_AND_ABOVE'}]"
            ]
          },
          "metadata": {},
          "execution_count": 18
        }
      ],
      "source": [
        "safety_settings"
      ]
    },
    {
      "cell_type": "markdown",
      "metadata": {
        "id": "E7zAD69vE92b"
      },
      "source": [
        "## Chamada da API"
      ]
    },
    {
      "cell_type": "code",
      "execution_count": null,
      "metadata": {
        "id": "LB2LxPmAB95V"
      },
      "outputs": [],
      "source": [
        "def validar_destino(destino):\n",
        "  gemini = genai.GenerativeModel(model_name=model)\n",
        "\n",
        "  chat = gemini.start_chat()\n",
        "\n",
        "  validador_destino = f'''\n",
        "  Se for uma cidade, estado ou país, retorne o nome correto do local, se não, responda FALSE.\n",
        "\n",
        "  Exemplos\n",
        "  Pergunta: Brasil\n",
        "  Resposta: Brasil\n",
        "\n",
        "  Pergunta: Pequim\n",
        "  Resposta: Pequim\n",
        "\n",
        "  Pergunta: Goiaba\n",
        "  Resposta: FALSE\n",
        "\n",
        "  Pergunta: Estonha\n",
        "  Resposta: Estônia\n",
        "\n",
        "  Pergunta:  {destino}\n",
        "  '''\n",
        "  response = chat.send_message(validador_destino,stream=stream)\n",
        "  if (response.text != 'FALSE'):\n",
        "    print(f'\\nGuiIA diz: Legal, seu novo destino é {destino} \\nDarei um breve resumo sobre {destino}.\\n')\n",
        "    time.sleep(2)\n",
        "    prompt_guia = f'De um breve resumo sobre {destino}.'\n",
        "    breve_resumo(prompt_guia)\n",
        "  else:\n",
        "    print(f'\\nGuiIA diz: O local {destino} é inválido, digite novamente.')\n",
        "    destino_correto = input('Destino: ')\n",
        "    validar_destino(destino_correto)\n",
        "\n",
        "\n",
        "def breve_resumo(prompt_guia):\n",
        "  gemini = genai.GenerativeModel(model_name=model)\n",
        "\n",
        "  resumo = gemini.start_chat()\n",
        "\n",
        "  response = resumo.send_message(prompt_guia,stream=stream)\n",
        "\n",
        "  display(Markdown(response.text))\n",
        "\n",
        "def guia_de_viagem(destino):\n",
        "  opcoes = f'''\\n\n",
        "  (1) Qual a língua falada em {destino}.\n",
        "  (2) Quais as principais culinária de {destino}.\n",
        "  (3) Quais os principais pontos turísticos de {destino}.\n",
        "  (4) Saber sobre o fuso-horário de {destino}.\n",
        "  (5) Sobre a temperatura no mês de viagem até {destino}.\n",
        "  (6) Qual a moeda de {destino}, e suas cotações.\n",
        "  (7) Sabe sobre outro local.\n",
        "  (8) Sair.\n",
        "  '''\n",
        "  time.sleep(2)\n",
        "  print(opcoes)\n",
        "  return input('Qual sua opção: ')\n",
        "\n",
        "def opcao_1(destino):\n",
        "  gemini = genai.GenerativeModel(model_name=model)\n",
        "  validador_opcao_1 = f'''\n",
        "    Preciso saber qual a língua que se fala em um certo local.\n",
        "    Se este local a principal língua for a portuguesa, a resposta deve ser\n",
        "    \"Não se preocupe, em .... a língua principal é português. Você vai se dar bem.\"\n",
        "    Se não for português, a resposta deve ser o nome da língua principal da cidade.\n",
        "\n",
        "    Exemplos\n",
        "    Local: Itália\n",
        "    Resposta: A língua principal na Itália é o italiano\n",
        "\n",
        "    Local: Portugal\n",
        "    Resposta: Não se preocupe, em Portugal a língua principal é português. Você vai se dar bem.\n",
        "\n",
        "    Local: Japão\n",
        "    Resposta: A língua principal no Japão na japonês\n",
        "\n",
        "    Local: {destino}\n",
        "  '''\n",
        "\n",
        "\n",
        "  chat_1 = gemini.start_chat()\n",
        "  response = chat_1.send_message(validador_opcao_1,stream=stream)\n",
        "  display(Markdown(response.text))\n",
        "  fala_por_la(destino, response.text)\n",
        "\n",
        "def fala_por_la(destino, idioma):\n",
        "  print(f'\\nGuiIA diz: Vamos ver alguma curiosidades sobre como falam em {destino}.')\n",
        "  time.sleep(2)\n",
        "  gemini = genai.GenerativeModel(model_name=model)\n",
        "  if \"português\" in idioma.lower():\n",
        "    validador_opcao_6_1 = f'''\n",
        "      Me fale de algumas gírias educadas de {destino}.\n",
        "\n",
        "      Exemplos:\n",
        "\n",
        "      \"Arretado\", gírias nordestina que equivale a bacana, bonito, excelente, legal etc..\n",
        "      \"Mas bá\", gírias gaúcha para questionamento ou indagação\n",
        "    '''\n",
        "    chat_6_1 = gemini.start_chat()\n",
        "    response = chat_6_1.send_message(validador_opcao_6_1,stream=stream)\n",
        "    display(Markdown(response.text))\n",
        "  else:\n",
        "    validador_opcao_6_2 = f'''\n",
        "      Como posso realizar as saudações na língua de {destino},\n",
        "      \"Olá, como vai?\"\n",
        "      \"Estou bem.\"\n",
        "      \"Por favor!\"\n",
        "      \"Obrigado!\"\n",
        "      \"Boa tarde.\"\n",
        "      \"Boa noite.\"\n",
        "      \"Bom dia.\"\n",
        "\n",
        "\n",
        "      Exemplos para a Inglês:\n",
        "\n",
        "      Português: \"Olá, como vai?\"\n",
        "      Inglês: \"Hello how are you?\"\n",
        "\n",
        "      Português: \"Estou bem.\"\n",
        "      Inglês: \"I am fine.\"\n",
        "\n",
        "      Português: \"Por favor!\"\n",
        "      Inglês: \"Please!\"\n",
        "\n",
        "      Português: \"Obrigado!\"\n",
        "      Inglês: \"Thanks!\"\n",
        "\n",
        "      Português: \"Boa tarde.\"\n",
        "      Inglês: \"Good afternoon.\"\n",
        "\n",
        "      Português: \"Boa noite.\"\n",
        "      Inglês: \"Goodnight.\"\n",
        "\n",
        "      Português: \"Bom dia.\"\n",
        "      Inglês: \"Good morning.\"\n",
        "\n",
        "    '''\n",
        "    chat_6_2 = gemini.start_chat()\n",
        "    response = chat_6_2.send_message(validador_opcao_6_2,stream=stream)\n",
        "    display(Markdown(response.text))\n",
        "\n",
        "def opcao_2(destino):\n",
        "  gemini = genai.GenerativeModel(model_name=model)\n",
        "  validador_opcao_2 = f'''\n",
        "    Cite os principais pratos da culinária de {destino}\n",
        "  '''\n",
        "\n",
        "\n",
        "  chat_2 = gemini.start_chat()\n",
        "  response = chat_2.send_message(validador_opcao_2,stream=stream)\n",
        "  display(Markdown(response.text))\n",
        "\n",
        "def opcao_3(destino):\n",
        "  gemini = genai.GenerativeModel(model_name=model)\n",
        "  validador_opcao_3 = f'''\n",
        "    Cite os principais pontos turísticos de {destino}\n",
        "  '''\n",
        "\n",
        "\n",
        "  chat_3 = gemini.start_chat()\n",
        "  response = chat_3.send_message(validador_opcao_3,stream=stream)\n",
        "  display(Markdown(response.text))\n",
        "\n",
        "def opcao_4(destino):\n",
        "  gemini = genai.GenerativeModel(model_name=model)\n",
        "  validador_opcao_4 = f'''\n",
        "    Qual o horário local em {destino}, e quantas horas de diferença para o horário de brasilia se houver diferenças?\n",
        "  '''\n",
        "\n",
        "\n",
        "  chat_4 = gemini.start_chat()\n",
        "  response = chat_4.send_message(validador_opcao_4,stream=stream)\n",
        "  display(Markdown(response.text))\n",
        "\n",
        "def opcao_5(destino):\n",
        "  gemini = genai.GenerativeModel(model_name=model)\n",
        "  mes = input(f'\\nGuiIA diz: Em qual mês você fará a sua viagem para {destino}?\\nResposta: ')\n",
        "\n",
        "  lista_de_mes = [\"1\",\"2\",\"3\",\"4\",\"5\",\"6\",\"7\",\"8\",\"9\",\"10\",\"11\",\"12\",\n",
        "                    \"Janeiro\", \"Fevereiro\", \"Março\", \"Abril\", \"Maio\", \"Junho\",\n",
        "                   \"Julho\", \"Agosto\", \"Setembro\", \"Outubro\", \"Novembro\", \"Dezembro\"]\n",
        "  if any(elemento.lower() == mes.lower() for elemento in lista_de_mes):\n",
        "    print(f'\\nGuiIA diz: deixa eu pesquisar sobre o clima em {destino} no mês {mes}')\n",
        "    validador_opcao_5 = f'''\n",
        "      Me explique um pouco sobre o clima em {destino} no mês de {mes}.\n",
        "    '''\n",
        "    chat_5 = gemini.start_chat()\n",
        "    response = chat_5.send_message(validador_opcao_5,stream=stream)\n",
        "    display(Markdown(response.text))\n",
        "  else:\n",
        "    print(f'\\n GuiIA diz: O mês {mes} é inválido. Selecione um mês numérico ou por extenso corretamente.')\n",
        "    opcao_5(destino)\n",
        "\n",
        "def opcao_6(destino):\n",
        "  gemini = genai.GenerativeModel(model_name=model)\n",
        "  validador_opcao_6 = f'''\n",
        "      Qual a moeda utilizada em {destino} e quais as cotações para Real, Dólar Americano e Euro.\n",
        "    '''\n",
        "  chat_6 = gemini.start_chat()\n",
        "  response = chat_6.send_message(validador_opcao_6,stream=stream)\n",
        "  display(Markdown(response.text))\n",
        "\n",
        "\n",
        "def opcoes(escolha, destino):\n",
        "  if escolha == \"1\":\n",
        "    print(f'\\nGuiIA diz: Legal que você quer saber mais sobre o idioma de {destino}. Um momento enquanto eu processo a informação.')\n",
        "    time.sleep(2)\n",
        "    opcao_1(destino)\n",
        "\n",
        "\n",
        "    print(f'\\nGuiIA diz: Pressione ENTER para continuar.')\n",
        "    input()\n",
        "    print('\\n_________________________________________________________________\\n')\n",
        "    print(f'''\\nGuiIA diz:E aí, agora que já sabe algo mais sobre {destino}, O que mais gostaria de saber?''')\n",
        "\n",
        "    escolha = guia_de_viagem(destino)\n",
        "    opcoes(escolha, destino)\n",
        "\n",
        "  elif escolha == \"2\":\n",
        "    print(f'\\nGuiIA diz: Boa, vamos saber mais sobre os principais pratos de  {destino}. \\nProcessando.')\n",
        "    time.sleep(2)\n",
        "    opcao_2(destino)\n",
        "\n",
        "    print(f'\\nGuiIA diz: Pressione ENTER para continuar.')\n",
        "    input()\n",
        "    print('\\n_________________________________________________________________\\n')\n",
        "    print(f'''\\nGuiIA diz: O que mais gostaria de saber sobre {destino}?''')\n",
        "\n",
        "    escolha = guia_de_viagem(destino)\n",
        "    opcoes(escolha, destino)\n",
        "  elif escolha == \"3\":\n",
        "    print(f'\\nGuiIA diz: Vamos conhecer mais sobre os pontos turísticos de {destino}. \\nSó um momentinho.')\n",
        "    time.sleep(2)\n",
        "    opcao_3(destino)\n",
        "\n",
        "    print(f'Pressione ENTER para continuar.')\n",
        "    input()\n",
        "    print('\\n_________________________________________________________________\\n')\n",
        "    print(f'''\\nGuiIA diz: O que mais gostaria de saber sobre {destino}?''')\n",
        "\n",
        "    escolha = guia_de_viagem(destino)\n",
        "    opcoes(escolha, destino)\n",
        "  elif escolha == \"4\":\n",
        "    print(f'\\nGuiIA diz: Deixa eu verificar mais sobre o horário de {destino}. \\nAguarde só um pouco.')\n",
        "    time.sleep(2)\n",
        "    opcao_4(destino)\n",
        "\n",
        "    print(f'Pressione ENTER para continuar.')\n",
        "    input()\n",
        "    print('\\n_________________________________________________________________\\n')\n",
        "    print(f'''\\nGuiIA diz: O que mais gostaria de saber sobre {destino}?''')\n",
        "\n",
        "    escolha = guia_de_viagem(destino)\n",
        "    opcoes(escolha, destino)\n",
        "  elif escolha == \"5\":\n",
        "    print(f'\\nGuiIA diz: Vamos ver mais sobre o clima em {destino}. Deixa eu processar aqui, só um momento.')\n",
        "    time.sleep(2)\n",
        "    opcao_5(destino)\n",
        "\n",
        "    print(f'Pressione ENTER para continuar.')\n",
        "    input()\n",
        "    print('\\n_________________________________________________________________\\n')\n",
        "    print(f'''\\nGuiIA diz: O que mais gostaria de saber sobre {destino}?''')\n",
        "\n",
        "    escolha = guia_de_viagem(destino)\n",
        "    opcoes(escolha, destino)\n",
        "  elif escolha == \"6\":\n",
        "    print(f'\\nGuiIA diz: Vamos saber sobre a moeda utilizada em {destino}. Deixa eu pesquisar aqui.')\n",
        "    time.sleep(2)\n",
        "    opcao_6(destino)\n",
        "\n",
        "    print(f'Pressione ENTER para continuar.')\n",
        "    input()\n",
        "    print('\\n_________________________________________________________________\\n')\n",
        "    print(f'''\\nGuiIA diz: O que mais gostaria de saber sobre {destino}?''')\n",
        "\n",
        "    escolha = guia_de_viagem(destino)\n",
        "    opcoes(escolha, destino)\n",
        "  elif escolha == \"7\":\n",
        "    print('\\n_________________________________________________________________\\n')\n",
        "    destino = input(\"\\nGuiIA diz: Bora ver mais sobre seu outro destino? \\nDestino: \")\n",
        "    validar_destino(destino)\n",
        "    print(f'Pressione ENTER para continuar.')\n",
        "    input()\n",
        "    print(f'\\nO que gostaria de saber sobre {destino}?')\n",
        "    escolha = guia_de_viagem(destino)\n",
        "    opcoes(escolha, destino)\n",
        "  elif escolha == \"8\":\n",
        "    print(f'\\nGuiIA diz: Muito obrigado. Qualquer dúvida, acesse novamente o GuiIA.')\n",
        "  else:\n",
        "    print(f'{escolha} é uma opção inválida, tente novamente.')\n",
        "    nova_escolha = guia_de_viagem(destino)\n",
        "    opcoes(nova_escolha, destino)"
      ]
    },
    {
      "cell_type": "code",
      "source": [
        "def guiia():\n",
        "  destino = input(\"\\nGuiIA diz: Olá, sou a Inteligência Artificial de apoia a viagem, meu nome é GuiIA.\\nQual o seu próximo destino? \\nDestino: \")\n",
        "\n",
        "\n",
        "  validar_destino(destino)\n",
        "  print(f'Pressione ENTER para continuar.')\n",
        "  input()\n",
        "  print(f'''\\nGuiIA diz: Quero facilitar sua estadia em {destino}.\n",
        "    Como posso te ajudar?''')\n",
        "\n",
        "  escolha = guia_de_viagem(destino)\n",
        "  opcoes(escolha, destino)"
      ],
      "metadata": {
        "id": "zdyux2NM7K99"
      },
      "execution_count": null,
      "outputs": []
    },
    {
      "cell_type": "markdown",
      "source": [
        "# **GuiIA**"
      ],
      "metadata": {
        "id": "rPhVInjKiXCo"
      }
    },
    {
      "cell_type": "code",
      "source": [
        "guiia()"
      ],
      "metadata": {
        "id": "rEVSyVe8iVW7"
      },
      "execution_count": null,
      "outputs": []
    }
  ],
  "metadata": {
    "colab": {
      "collapsed_sections": [
        "rlE8UqxrDIez",
        "weo-o73WDpdm"
      ],
      "provenance": [],
      "include_colab_link": true
    },
    "kernelspec": {
      "display_name": "Python 3",
      "name": "python3"
    }
  },
  "nbformat": 4,
  "nbformat_minor": 0
}